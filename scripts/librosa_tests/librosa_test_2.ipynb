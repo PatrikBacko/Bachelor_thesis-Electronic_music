{
 "cells": [
  {
   "cell_type": "code",
   "execution_count": 11,
   "metadata": {},
   "outputs": [],
   "source": [
    "import librosa as lb\n",
    "import librosa.display\n",
    "import librosa.feature\n",
    "import librosa.util\n",
    "import librosa.effects\n",
    "\n",
    "import numpy as np\n",
    "\n",
    "import matplotlib.pyplot as plt\n",
    "%matplotlib inline\n",
    "\n",
    "import wave \n",
    "import soundfile as sf\n",
    "import pyaudio\n",
    "\n",
    "import os\n",
    "\n",
    "import torch\n",
    "import torch.nn as nn\n"
   ]
  },
  {
   "cell_type": "code",
   "execution_count": 6,
   "metadata": {},
   "outputs": [],
   "source": [
    "def play_wave(wave, wave_info):\n",
    "    # initialize PyAudio\n",
    "    p = pyaudio.PyAudio()\n",
    "\n",
    "    # open a stream\n",
    "    stream = p.open(format=pyaudio.paFloat32,\n",
    "                    channels=wave_info.channels,\n",
    "                    rate=wave_info.samplerate,\n",
    "                    output=True)\n",
    "\n",
    "    # play audio\n",
    "    stream.write(wave.tobytes())\n",
    "\n",
    "    # stop stream and terminate PyAudio\n",
    "    stream.stop_stream()\n",
    "    stream.close()\n",
    "    p.terminate()"
   ]
  },
  {
   "cell_type": "code",
   "execution_count": 7,
   "metadata": {},
   "outputs": [],
   "source": [
    "dir_path = r\"C:\\Users\\llama\\Desktop\\cuni\\bakalarka\\data\\test\\kicks\" \n",
    "file_paths = [os.path.join(dir_path, path) for path in os.listdir(dir_path)]"
   ]
  },
  {
   "cell_type": "code",
   "execution_count": 8,
   "metadata": {},
   "outputs": [],
   "source": [
    "class Wave():\n",
    "    def __init__(self, array, sr, info = None) -> None:\n",
    "        self.array = array\n",
    "        self.sr = sr\n",
    "        self.info = info\n",
    "\n",
    "waves = []\n",
    "\n",
    "for path in file_paths:\n",
    "    array, sr = lb.load(path)\n",
    "    info = sf.info(path)\n",
    "    waves.append(Wave(array, sr, info))"
   ]
  },
  {
   "cell_type": "code",
   "execution_count": 9,
   "metadata": {},
   "outputs": [],
   "source": [
    "def pad_or_trim(mfcc, length = 100):\n",
    "    if mfcc.shape[1] > length:\n",
    "        return mfcc[:,:length]\n",
    "    else:\n",
    "        return np.pad(mfcc, ((0,0),(0,length-mfcc.shape[1])), constant_values = 0)"
   ]
  },
  {
   "cell_type": "code",
   "execution_count": 10,
   "metadata": {},
   "outputs": [
    {
     "name": "stdout",
     "output_type": "stream",
     "text": [
      "(128, 38) 0.4342403628117914\n",
      "(128, 100) 0.4342403628117914\n",
      "0.0\n",
      "\n",
      "(128, 42) 0.48387755102040814\n",
      "(128, 100) 0.48387755102040814\n",
      "0.0\n",
      "\n",
      "(128, 46) 0.5241950113378685\n",
      "(128, 100) 0.5241950113378685\n",
      "0.0\n",
      "\n",
      "(128, 28) 0.3163718820861678\n",
      "(128, 100) 0.3163718820861678\n",
      "0.0\n",
      "\n",
      "(128, 26) 0.30156462585034016\n",
      "(128, 100) 0.30156462585034016\n",
      "0.0\n",
      "\n",
      "(128, 21) 0.23564625850340137\n",
      "(128, 100) 0.23564625850340137\n",
      "0.0\n",
      "\n"
     ]
    },
    {
     "ename": "KeyboardInterrupt",
     "evalue": "",
     "output_type": "error",
     "traceback": [
      "\u001b[1;31m---------------------------------------------------------------------------\u001b[0m",
      "\u001b[1;31mKeyboardInterrupt\u001b[0m                         Traceback (most recent call last)",
      "Cell \u001b[1;32mIn[10], line 14\u001b[0m\n\u001b[0;32m     12\u001b[0m \u001b[38;5;28mprint\u001b[39m(\u001b[38;5;124mf\u001b[39m\u001b[38;5;124m\"\u001b[39m\u001b[38;5;132;01m{\u001b[39;00mmfcc_pad_or_trim[\u001b[38;5;241m-\u001b[39m\u001b[38;5;241m1\u001b[39m][\u001b[38;5;241m-\u001b[39m\u001b[38;5;241m1\u001b[39m]\u001b[38;5;132;01m}\u001b[39;00m\u001b[38;5;124m\"\u001b[39m)\n\u001b[0;32m     13\u001b[0m \u001b[38;5;28mprint\u001b[39m(\u001b[38;5;124m\"\u001b[39m\u001b[38;5;124m\"\u001b[39m)\n\u001b[1;32m---> 14\u001b[0m inverse \u001b[38;5;241m=\u001b[39m lb\u001b[38;5;241m.\u001b[39mfeature\u001b[38;5;241m.\u001b[39minverse\u001b[38;5;241m.\u001b[39mmfcc_to_audio(mfcc, sr\u001b[38;5;241m=\u001b[39mwave\u001b[38;5;241m.\u001b[39msr, n_fft\u001b[38;5;241m=\u001b[39m\u001b[38;5;241m2048\u001b[39m, hop_length\u001b[38;5;241m=\u001b[39m\u001b[38;5;241m256\u001b[39m, lifter\u001b[38;5;241m=\u001b[39m\u001b[38;5;241m0\u001b[39m, dct_type\u001b[38;5;241m=\u001b[39m\u001b[38;5;241m3\u001b[39m, n_mels \u001b[38;5;241m=\u001b[39m \u001b[38;5;241m128\u001b[39m)\n\u001b[0;32m     16\u001b[0m play_wave(wave\u001b[38;5;241m.\u001b[39marray, wave\u001b[38;5;241m.\u001b[39minfo)\n",
      "File \u001b[1;32mc:\\Users\\llama\\anaconda3\\envs\\bakalarka\\Lib\\site-packages\\librosa\\feature\\inverse.py:371\u001b[0m, in \u001b[0;36mmfcc_to_audio\u001b[1;34m(mfcc, n_mels, dct_type, norm, ref, lifter, **kwargs)\u001b[0m\n\u001b[0;32m    292\u001b[0m \u001b[38;5;250m\u001b[39m\u001b[38;5;124;03m\"\"\"Convert Mel-frequency cepstral coefficients to a time-domain audio signal\u001b[39;00m\n\u001b[0;32m    293\u001b[0m \n\u001b[0;32m    294\u001b[0m \u001b[38;5;124;03mThis function is primarily a convenience wrapper for the following steps:\u001b[39;00m\n\u001b[1;32m   (...)\u001b[0m\n\u001b[0;32m    365\u001b[0m \u001b[38;5;124;03mscipy.fftpack.dct\u001b[39;00m\n\u001b[0;32m    366\u001b[0m \u001b[38;5;124;03m\"\"\"\u001b[39;00m\n\u001b[0;32m    367\u001b[0m mel_spec \u001b[38;5;241m=\u001b[39m mfcc_to_mel(\n\u001b[0;32m    368\u001b[0m     mfcc, n_mels\u001b[38;5;241m=\u001b[39mn_mels, dct_type\u001b[38;5;241m=\u001b[39mdct_type, norm\u001b[38;5;241m=\u001b[39mnorm, ref\u001b[38;5;241m=\u001b[39mref, lifter\u001b[38;5;241m=\u001b[39mlifter\n\u001b[0;32m    369\u001b[0m )\n\u001b[1;32m--> 371\u001b[0m \u001b[38;5;28;01mreturn\u001b[39;00m mel_to_audio(mel_spec, \u001b[38;5;241m*\u001b[39m\u001b[38;5;241m*\u001b[39mkwargs)\n",
      "File \u001b[1;32mc:\\Users\\llama\\anaconda3\\envs\\bakalarka\\Lib\\site-packages\\librosa\\feature\\inverse.py:190\u001b[0m, in \u001b[0;36mmel_to_audio\u001b[1;34m(M, sr, n_fft, hop_length, win_length, window, center, pad_mode, power, n_iter, length, dtype, **kwargs)\u001b[0m\n\u001b[0;32m    110\u001b[0m \u001b[38;5;28;01mdef\u001b[39;00m \u001b[38;5;21mmel_to_audio\u001b[39m(\n\u001b[0;32m    111\u001b[0m     M: np\u001b[38;5;241m.\u001b[39mndarray,\n\u001b[0;32m    112\u001b[0m     \u001b[38;5;241m*\u001b[39m,\n\u001b[1;32m   (...)\u001b[0m\n\u001b[0;32m    124\u001b[0m     \u001b[38;5;241m*\u001b[39m\u001b[38;5;241m*\u001b[39mkwargs: Any,\n\u001b[0;32m    125\u001b[0m ) \u001b[38;5;241m-\u001b[39m\u001b[38;5;241m>\u001b[39m np\u001b[38;5;241m.\u001b[39mndarray:\n\u001b[0;32m    126\u001b[0m \u001b[38;5;250m    \u001b[39m\u001b[38;5;124;03m\"\"\"Invert a mel power spectrogram to audio using Griffin-Lim.\u001b[39;00m\n\u001b[0;32m    127\u001b[0m \n\u001b[0;32m    128\u001b[0m \u001b[38;5;124;03m    This is primarily a convenience wrapper for:\u001b[39;00m\n\u001b[1;32m   (...)\u001b[0m\n\u001b[0;32m    188\u001b[0m \u001b[38;5;124;03m    librosa.feature.inverse.mel_to_stft\u001b[39;00m\n\u001b[0;32m    189\u001b[0m \u001b[38;5;124;03m    \"\"\"\u001b[39;00m\n\u001b[1;32m--> 190\u001b[0m     stft \u001b[38;5;241m=\u001b[39m mel_to_stft(M, sr\u001b[38;5;241m=\u001b[39msr, n_fft\u001b[38;5;241m=\u001b[39mn_fft, power\u001b[38;5;241m=\u001b[39mpower, \u001b[38;5;241m*\u001b[39m\u001b[38;5;241m*\u001b[39mkwargs)\n\u001b[0;32m    192\u001b[0m     \u001b[38;5;28;01mreturn\u001b[39;00m griffinlim(\n\u001b[0;32m    193\u001b[0m         stft,\n\u001b[0;32m    194\u001b[0m         n_iter\u001b[38;5;241m=\u001b[39mn_iter,\n\u001b[1;32m   (...)\u001b[0m\n\u001b[0;32m    202\u001b[0m         pad_mode\u001b[38;5;241m=\u001b[39mpad_mode,\n\u001b[0;32m    203\u001b[0m     )\n",
      "File \u001b[1;32mc:\\Users\\llama\\anaconda3\\envs\\bakalarka\\Lib\\site-packages\\librosa\\feature\\inverse.py:106\u001b[0m, in \u001b[0;36mmel_to_stft\u001b[1;34m(M, sr, n_fft, power, **kwargs)\u001b[0m\n\u001b[0;32m     99\u001b[0m mel_basis \u001b[38;5;241m=\u001b[39m filters\u001b[38;5;241m.\u001b[39mmel(\n\u001b[0;32m    100\u001b[0m     sr\u001b[38;5;241m=\u001b[39msr, n_fft\u001b[38;5;241m=\u001b[39mn_fft, n_mels\u001b[38;5;241m=\u001b[39mM\u001b[38;5;241m.\u001b[39mshape[\u001b[38;5;241m-\u001b[39m\u001b[38;5;241m2\u001b[39m], dtype\u001b[38;5;241m=\u001b[39mM\u001b[38;5;241m.\u001b[39mdtype, \u001b[38;5;241m*\u001b[39m\u001b[38;5;241m*\u001b[39mkwargs\n\u001b[0;32m    101\u001b[0m )\n\u001b[0;32m    103\u001b[0m \u001b[38;5;66;03m# Find the non-negative least squares solution, and apply\u001b[39;00m\n\u001b[0;32m    104\u001b[0m \u001b[38;5;66;03m# the inverse exponent.\u001b[39;00m\n\u001b[0;32m    105\u001b[0m \u001b[38;5;66;03m# We'll do the exponentiation in-place.\u001b[39;00m\n\u001b[1;32m--> 106\u001b[0m inverse \u001b[38;5;241m=\u001b[39m nnls(mel_basis, M)\n\u001b[0;32m    107\u001b[0m \u001b[38;5;28;01mreturn\u001b[39;00m np\u001b[38;5;241m.\u001b[39mpower(inverse, \u001b[38;5;241m1.0\u001b[39m \u001b[38;5;241m/\u001b[39m power, out\u001b[38;5;241m=\u001b[39minverse)\n",
      "File \u001b[1;32mc:\\Users\\llama\\anaconda3\\envs\\bakalarka\\Lib\\site-packages\\librosa\\util\\_nnls.py:150\u001b[0m, in \u001b[0;36mnnls\u001b[1;34m(A, B, **kwargs)\u001b[0m\n\u001b[0;32m    148\u001b[0m \u001b[38;5;66;03m# Process in blocks:\u001b[39;00m\n\u001b[0;32m    149\u001b[0m \u001b[38;5;28;01mif\u001b[39;00m B\u001b[38;5;241m.\u001b[39mshape[\u001b[38;5;241m-\u001b[39m\u001b[38;5;241m1\u001b[39m] \u001b[38;5;241m<\u001b[39m\u001b[38;5;241m=\u001b[39m n_columns:\n\u001b[1;32m--> 150\u001b[0m     \u001b[38;5;28;01mreturn\u001b[39;00m _nnls_lbfgs_block(A, B, \u001b[38;5;241m*\u001b[39m\u001b[38;5;241m*\u001b[39mkwargs)\u001b[38;5;241m.\u001b[39mastype(A\u001b[38;5;241m.\u001b[39mdtype)\n\u001b[0;32m    152\u001b[0m x: np\u001b[38;5;241m.\u001b[39mndarray\n\u001b[0;32m    153\u001b[0m x \u001b[38;5;241m=\u001b[39m np\u001b[38;5;241m.\u001b[39meinsum(\u001b[38;5;124m\"\u001b[39m\u001b[38;5;124mfm,...mt->...ft\u001b[39m\u001b[38;5;124m\"\u001b[39m, np\u001b[38;5;241m.\u001b[39mlinalg\u001b[38;5;241m.\u001b[39mpinv(A), B, optimize\u001b[38;5;241m=\u001b[39m\u001b[38;5;28;01mTrue\u001b[39;00m)\n",
      "File \u001b[1;32mc:\\Users\\llama\\anaconda3\\envs\\bakalarka\\Lib\\site-packages\\librosa\\util\\_nnls.py:67\u001b[0m, in \u001b[0;36m_nnls_lbfgs_block\u001b[1;34m(A, B, x_init, **kwargs)\u001b[0m\n\u001b[0;32m     63\u001b[0m \u001b[38;5;66;03m# If we don't have an initial point, start at the projected\u001b[39;00m\n\u001b[0;32m     64\u001b[0m \u001b[38;5;66;03m# least squares solution\u001b[39;00m\n\u001b[0;32m     65\u001b[0m \u001b[38;5;28;01mif\u001b[39;00m x_init \u001b[38;5;129;01mis\u001b[39;00m \u001b[38;5;28;01mNone\u001b[39;00m:\n\u001b[0;32m     66\u001b[0m     \u001b[38;5;66;03m# Suppress type checks because mypy can't find pinv\u001b[39;00m\n\u001b[1;32m---> 67\u001b[0m     x_init \u001b[38;5;241m=\u001b[39m np\u001b[38;5;241m.\u001b[39meinsum(\u001b[38;5;124m\"\u001b[39m\u001b[38;5;124mfm,...mt->...ft\u001b[39m\u001b[38;5;124m\"\u001b[39m, np\u001b[38;5;241m.\u001b[39mlinalg\u001b[38;5;241m.\u001b[39mpinv(A), B, optimize\u001b[38;5;241m=\u001b[39m\u001b[38;5;28;01mTrue\u001b[39;00m)\n\u001b[0;32m     68\u001b[0m     np\u001b[38;5;241m.\u001b[39mclip(x_init, \u001b[38;5;241m0\u001b[39m, \u001b[38;5;28;01mNone\u001b[39;00m, out\u001b[38;5;241m=\u001b[39mx_init)\n\u001b[0;32m     70\u001b[0m \u001b[38;5;66;03m# Adapt the hessian approximation to the dimension of the problem\u001b[39;00m\n",
      "File \u001b[1;32mc:\\Users\\llama\\anaconda3\\envs\\bakalarka\\Lib\\site-packages\\numpy\\linalg\\linalg.py:2022\u001b[0m, in \u001b[0;36mpinv\u001b[1;34m(a, rcond, hermitian)\u001b[0m\n\u001b[0;32m   2020\u001b[0m     \u001b[38;5;28;01mreturn\u001b[39;00m wrap(res)\n\u001b[0;32m   2021\u001b[0m a \u001b[38;5;241m=\u001b[39m a\u001b[38;5;241m.\u001b[39mconjugate()\n\u001b[1;32m-> 2022\u001b[0m u, s, vt \u001b[38;5;241m=\u001b[39m svd(a, full_matrices\u001b[38;5;241m=\u001b[39m\u001b[38;5;28;01mFalse\u001b[39;00m, hermitian\u001b[38;5;241m=\u001b[39mhermitian)\n\u001b[0;32m   2024\u001b[0m \u001b[38;5;66;03m# discard small singular values\u001b[39;00m\n\u001b[0;32m   2025\u001b[0m cutoff \u001b[38;5;241m=\u001b[39m rcond[\u001b[38;5;241m.\u001b[39m\u001b[38;5;241m.\u001b[39m\u001b[38;5;241m.\u001b[39m, newaxis] \u001b[38;5;241m*\u001b[39m amax(s, axis\u001b[38;5;241m=\u001b[39m\u001b[38;5;241m-\u001b[39m\u001b[38;5;241m1\u001b[39m, keepdims\u001b[38;5;241m=\u001b[39m\u001b[38;5;28;01mTrue\u001b[39;00m)\n",
      "File \u001b[1;32mc:\\Users\\llama\\anaconda3\\envs\\bakalarka\\Lib\\site-packages\\numpy\\linalg\\linalg.py:1681\u001b[0m, in \u001b[0;36msvd\u001b[1;34m(a, full_matrices, compute_uv, hermitian)\u001b[0m\n\u001b[0;32m   1678\u001b[0m         gufunc \u001b[38;5;241m=\u001b[39m _umath_linalg\u001b[38;5;241m.\u001b[39msvd_n_s\n\u001b[0;32m   1680\u001b[0m signature \u001b[38;5;241m=\u001b[39m \u001b[38;5;124m'\u001b[39m\u001b[38;5;124mD->DdD\u001b[39m\u001b[38;5;124m'\u001b[39m \u001b[38;5;28;01mif\u001b[39;00m isComplexType(t) \u001b[38;5;28;01melse\u001b[39;00m \u001b[38;5;124m'\u001b[39m\u001b[38;5;124md->ddd\u001b[39m\u001b[38;5;124m'\u001b[39m\n\u001b[1;32m-> 1681\u001b[0m u, s, vh \u001b[38;5;241m=\u001b[39m gufunc(a, signature\u001b[38;5;241m=\u001b[39msignature, extobj\u001b[38;5;241m=\u001b[39mextobj)\n\u001b[0;32m   1682\u001b[0m u \u001b[38;5;241m=\u001b[39m u\u001b[38;5;241m.\u001b[39mastype(result_t, copy\u001b[38;5;241m=\u001b[39m\u001b[38;5;28;01mFalse\u001b[39;00m)\n\u001b[0;32m   1683\u001b[0m s \u001b[38;5;241m=\u001b[39m s\u001b[38;5;241m.\u001b[39mastype(_realType(result_t), copy\u001b[38;5;241m=\u001b[39m\u001b[38;5;28;01mFalse\u001b[39;00m)\n",
      "\u001b[1;31mKeyboardInterrupt\u001b[0m: "
     ]
    }
   ],
   "source": [
    "mfccs = []\n",
    "\n",
    "for wave in waves:\n",
    "    mfcc = lb.feature.mfcc(y=wave.array, sr=wave.sr, n_mfcc=256, n_fft=2048, hop_length=256, lifter=0, dct_type=3, n_mels = 128)\n",
    "  \n",
    "    print(f\"{mfcc.shape} {wave.info.duration}\")\n",
    "    mfcc_pad_or_trim = pad_or_trim(mfcc, 100)\n",
    "    print(f\"{mfcc_pad_or_trim.shape} {wave.info.duration}\")\n",
    "\n",
    "    mfccs.append(mfcc_pad_or_trim)\n",
    "\n",
    "    print(f\"{mfcc_pad_or_trim[-1][-1]}\")\n",
    "    print(\"\")\n",
    "    inverse = lb.feature.inverse.mfcc_to_audio(mfcc, sr=wave.sr, n_fft=2048, hop_length=256, lifter=0, dct_type=3, n_mels = 128)\n",
    "\n",
    "    play_wave(wave.array, wave.info)\n",
    "\n"
   ]
  },
  {
   "cell_type": "code",
   "execution_count": null,
   "metadata": {},
   "outputs": [
    {
     "name": "stdout",
     "output_type": "stream",
     "text": [
      "(128, 100)\n",
      "torch.Size([1, 8, 124, 100])\n"
     ]
    }
   ],
   "source": [
    "class Model(nn.Module):\n",
    "    def __init__(self):\n",
    "        super(Model, self).__init__()\n",
    "\n",
    "        self.conv1 = nn.Conv2d(1, 8, (5,1))\n",
    "    def forward(self, x: torch.Tensor) -> torch.Tensor:\n",
    "        return self.conv1(x)\n",
    "    \n",
    "model = Model()\n",
    "\n",
    "print(mfccs[0].shape)\n",
    "out = model.forward(torch.Tensor(mfccs[0]).view(1,1,128,100))\n",
    "print(out.shape)\n",
    "    "
   ]
  }
 ],
 "metadata": {
  "kernelspec": {
   "display_name": "bakalarka",
   "language": "python",
   "name": "python3"
  },
  "language_info": {
   "codemirror_mode": {
    "name": "ipython",
    "version": 3
   },
   "file_extension": ".py",
   "mimetype": "text/x-python",
   "name": "python",
   "nbconvert_exporter": "python",
   "pygments_lexer": "ipython3",
   "version": "3.11.5"
  }
 },
 "nbformat": 4,
 "nbformat_minor": 2
}
