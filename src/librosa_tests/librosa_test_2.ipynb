{
 "cells": [
  {
   "cell_type": "code",
   "execution_count": 10,
   "metadata": {},
   "outputs": [],
   "source": [
    "import librosa as lb\n",
    "import librosa.display\n",
    "import librosa.feature\n",
    "import librosa.util\n",
    "import librosa.effects\n",
    "\n",
    "import numpy as np\n",
    "\n",
    "import matplotlib.pyplot as plt\n",
    "%matplotlib inline\n",
    "\n",
    "import wave \n",
    "import soundfile as sf\n",
    "import pyaudio\n",
    "\n",
    "import os\n",
    "import time\n",
    "\n",
    "import torch\n",
    "import torch.nn as nn\n"
   ]
  },
  {
   "cell_type": "code",
   "execution_count": 16,
   "metadata": {},
   "outputs": [],
   "source": [
    "def play_wave(wave, wave_info):\n",
    "    # initialize PyAudio\n",
    "    p = pyaudio.PyAudio()\n",
    "\n",
    "    # open a stream\n",
    "    stream = p.open(format=pyaudio.paFloat32,\n",
    "                    channels=wave_info.channels,\n",
    "                    rate=wave_info.samplerate,\n",
    "                    output=True)\n",
    "\n",
    "    # play audio\n",
    "    stream.write(wave.tobytes())\n",
    "    time.sleep(1)\n",
    "\n",
    "\n",
    "    # stop stream and terminate PyAudio\n",
    "    stream.stop_stream()\n",
    "    stream.close()\n",
    "    p.terminate()"
   ]
  },
  {
   "cell_type": "code",
   "execution_count": 39,
   "metadata": {},
   "outputs": [],
   "source": [
    "dir_path = r\"C:\\Users\\llama\\Desktop\\cuni\\bakalarka\\data\\test\\kicks\"\n",
    "# dir_path = r\"C:\\Users\\llama\\Desktop\\cuni\\bakalarka\\data\\test\\crashes\" \n",
    "\n",
    "file_paths = [os.path.join(dir_path, path) for path in os.listdir(dir_path)]"
   ]
  },
  {
   "cell_type": "code",
   "execution_count": 40,
   "metadata": {},
   "outputs": [],
   "source": [
    "class Wave():\n",
    "    def __init__(self, array, sr, info = None) -> None:\n",
    "        self.array = array\n",
    "        self.sr = sr\n",
    "        self.info = info\n",
    "\n",
    "waves = []\n",
    "\n",
    "for path in file_paths:\n",
    "    array, sr = lb.load(path)\n",
    "    info = sf.info(path)\n",
    "    waves.append(Wave(array, sr, info))"
   ]
  },
  {
   "cell_type": "code",
   "execution_count": 51,
   "metadata": {},
   "outputs": [],
   "source": [
    "def pad_or_trim(mfcc, length = 100):\n",
    "    if mfcc.shape[1] > length:\n",
    "        return mfcc[:, :length]\n",
    "    else:\n",
    "        last_column = mfcc[:, -1:]\n",
    "        padding = np.repeat(last_column, length - mfcc.shape[1], axis=1)\n",
    "        return np.concatenate((mfcc, padding), axis=1)\n",
    "        # return np.pad(mfcc, ((0,0),(0,length-mfcc.shape[1])), constant_values = mfcc[:,-1])        def pad_or_trim(mfcc, length=100):\n"
   ]
  },
  {
   "cell_type": "code",
   "execution_count": 52,
   "metadata": {},
   "outputs": [
    {
     "name": "stdout",
     "output_type": "stream",
     "text": [
      "OG wave duration: 0.4342403628117914\n",
      "-0.18709154427051544\n",
      "OG mfcc shape: (256, 38)\n",
      "New mfcc shape: (256, 100)\n",
      "-0.18709154427051544\n",
      "New wave duration: 1.1493877551020408\n",
      "OG wave duration: 0.48387755102040814\n",
      "0.2104833871126175\n",
      "OG mfcc shape: (256, 42)\n",
      "New mfcc shape: (256, 100)\n",
      "0.2104833871126175\n",
      "New wave duration: 1.1493877551020408\n",
      "OG wave duration: 0.5241950113378685\n",
      "-0.5781711339950562\n",
      "OG mfcc shape: (256, 46)\n",
      "New mfcc shape: (256, 100)\n",
      "-0.5781711339950562\n",
      "New wave duration: 1.1493877551020408\n"
     ]
    },
    {
     "ename": "KeyboardInterrupt",
     "evalue": "",
     "output_type": "error",
     "traceback": [
      "\u001b[1;31m---------------------------------------------------------------------------\u001b[0m",
      "\u001b[1;31mKeyboardInterrupt\u001b[0m                         Traceback (most recent call last)",
      "Cell \u001b[1;32mIn[52], line 20\u001b[0m\n\u001b[0;32m     18\u001b[0m \u001b[38;5;28mprint\u001b[39m(\u001b[38;5;124mf\u001b[39m\u001b[38;5;124m\"\u001b[39m\u001b[38;5;124mNew wave duration: \u001b[39m\u001b[38;5;132;01m{\u001b[39;00minverse_pad_or_trim\u001b[38;5;241m.\u001b[39mshape[\u001b[38;5;241m0\u001b[39m]\u001b[38;5;241m/\u001b[39mwave\u001b[38;5;241m.\u001b[39msr\u001b[38;5;132;01m}\u001b[39;00m\u001b[38;5;124m\"\u001b[39m)\n\u001b[0;32m     19\u001b[0m play_wave(wave\u001b[38;5;241m.\u001b[39marray, wave\u001b[38;5;241m.\u001b[39minfo)\n\u001b[1;32m---> 20\u001b[0m play_wave(inverse_pad_or_trim, wave\u001b[38;5;241m.\u001b[39minfo)\n",
      "Cell \u001b[1;32mIn[16], line 13\u001b[0m, in \u001b[0;36mplay_wave\u001b[1;34m(wave, wave_info)\u001b[0m\n\u001b[0;32m     11\u001b[0m \u001b[38;5;66;03m# play audio\u001b[39;00m\n\u001b[0;32m     12\u001b[0m stream\u001b[38;5;241m.\u001b[39mwrite(wave\u001b[38;5;241m.\u001b[39mtobytes())\n\u001b[1;32m---> 13\u001b[0m time\u001b[38;5;241m.\u001b[39msleep(\u001b[38;5;241m1\u001b[39m)\n\u001b[0;32m     16\u001b[0m \u001b[38;5;66;03m# stop stream and terminate PyAudio\u001b[39;00m\n\u001b[0;32m     17\u001b[0m stream\u001b[38;5;241m.\u001b[39mstop_stream()\n",
      "\u001b[1;31mKeyboardInterrupt\u001b[0m: "
     ]
    }
   ],
   "source": [
    "mfccs = []\n",
    "\n",
    "for wave in waves:\n",
    "    mfcc = lb.feature.mfcc(y=wave.array, sr=wave.sr, n_mfcc=256, n_fft=2048, hop_length=256, lifter=0, dct_type=3, n_mels = 256)\n",
    "  \n",
    "    print(f\"OG wave duration: {wave.info.duration}\")\n",
    "    print(f\"{mfcc[-1][-1]}\")\n",
    "    print(f\"OG mfcc shape: {mfcc.shape}\")\n",
    "    mfcc_pad_or_trim = pad_or_trim(mfcc, 100)\n",
    "    print(f\"New mfcc shape: {mfcc_pad_or_trim.shape}\")\n",
    "    print(f\"{mfcc_pad_or_trim[-1][-1]}\")\n",
    "\n",
    "\n",
    "    mfccs.append(mfcc_pad_or_trim)\n",
    "\n",
    "    inverse_pad_or_trim = lb.feature.inverse.mfcc_to_audio(mfcc_pad_or_trim, sr=wave.sr, n_fft=2048, hop_length=256, lifter=0, dct_type=3, n_mels = 256)\n",
    "\n",
    "    print(f\"New wave duration: {inverse_pad_or_trim.shape[0]/wave.sr}\")\n",
    "    play_wave(wave.array, wave.info)\n",
    "    play_wave(inverse_pad_or_trim, wave.info)\n",
    "\n",
    "\n"
   ]
  }
 ],
 "metadata": {
  "kernelspec": {
   "display_name": "bakalarka",
   "language": "python",
   "name": "python3"
  },
  "language_info": {
   "codemirror_mode": {
    "name": "ipython",
    "version": 3
   },
   "file_extension": ".py",
   "mimetype": "text/x-python",
   "name": "python",
   "nbconvert_exporter": "python",
   "pygments_lexer": "ipython3",
   "version": "3.11.5"
  }
 },
 "nbformat": 4,
 "nbformat_minor": 2
}
