{
 "cells": [
  {
   "cell_type": "code",
   "execution_count": 141,
   "metadata": {},
   "outputs": [],
   "source": [
    "import math\n",
    "import os\n",
    "from pathlib import Path\n",
    "\n",
    "import numpy as np\n",
    "import librosa as lb\n",
    "import soundfile as sf\n",
    "import pyaudio\n",
    "\n",
    "import torch\n",
    "import torch.nn as nn\n",
    "import torch.nn.functional as F\n",
    "\n",
    "import matplotlib.pyplot as plt\n",
    "%matplotlib inline\n",
    "\n",
    "import pickle as pkl\n",
    "\n",
    "from models.VAE_1 import VAE_1\n",
    "from utils.prepare_data import pad_or_trim\n",
    "\n",
    "from utils.config import load_config"
   ]
  },
  {
   "cell_type": "code",
   "execution_count": 142,
   "metadata": {},
   "outputs": [],
   "source": [
    "def play_wave(wave, sr):\n",
    "    # initialize PyAudio\n",
    "    p = pyaudio.PyAudio()\n",
    "\n",
    "    # open a stream\n",
    "    stream = p.open(format=pyaudio.paFloat32,\n",
    "                    channels=1,\n",
    "                    rate=sr,\n",
    "                    output=True)\n",
    "\n",
    "    # play audio\n",
    "    stream.write(wave.tobytes())\n",
    "\n",
    "    # stop stream and terminate PyAudio\n",
    "    stream.stop_stream()\n",
    "    stream.close()\n",
    "    p.terminate()"
   ]
  },
  {
   "cell_type": "code",
   "execution_count": 143,
   "metadata": {},
   "outputs": [],
   "source": [
    "def load_wave(path):\n",
    "    sample, sr = lb.load(path)\n",
    "    return sample, sr\n",
    "\n",
    "def load_random_wave(sample_type, path_to_samples = r\"C:\\Users\\llama\\Desktop\\cuni\\bakalarka\\Bachelor_thesis-Electronic_music\\data\\drums-one_shots\"):\n",
    "    # load random wave\n",
    "    path = os.path.join(path_to_samples, sample_type, f'{sample_type}_samples')\n",
    "\n",
    "    sample_name = np.random.choice(os.listdir(path))\n",
    "    sample, sr = load_wave(os.path.join(path, sample_name))\n",
    "    return sample, sr\n",
    "\n",
    "def load_all_waves(sample_types: list, path_to_samples = r\"C:\\Users\\llama\\Desktop\\cuni\\bakalarka\\Bachelor_thesis-Electronic_music\\data\\drums-one_shots\"):\n",
    "    waves = []\n",
    "    for sample_type in sample_types:\n",
    "        path = os.path.join(path_to_samples, sample_type, f'{sample_type}_samples')\n",
    "        for sample_name in os.listdir(path):\n",
    "            sample, sr = load_wave(os.path.join(path, sample_name))\n",
    "            waves.append((sample, sr))\n",
    "    return waves\n",
    "\n",
    "def convert_to_mfcc(wave, sr):\n",
    "    mfcc = lb.feature.mfcc(y=wave, sr=sr, **MFCC_KWARGS)\n",
    "    return mfcc\n",
    "\n",
    "def convert_to_wave(mfcc, sr):\n",
    "    return lb.feature.inverse.mfcc_to_audio(mfcc=mfcc, sr=sr, **INVERSE_MFCC_KWARGS)"
   ]
  },
  {
   "cell_type": "code",
   "execution_count": 144,
   "metadata": {},
   "outputs": [],
   "source": [
    "def sample_from_latent_space(mu, logvar):\n",
    "    std = torch.exp(0.5*logvar)\n",
    "    eps = torch.randn_like(std)\n",
    "    return mu + eps*std\n",
    "\n",
    "def fuse_sampled_samples(samples, weights = None):\n",
    "    if weights is None:\n",
    "        weights = np.ones(len(samples)) / len(samples)\n",
    "    return np.average(samples, weights=weights)"
   ]
  },
  {
   "cell_type": "code",
   "execution_count": 145,
   "metadata": {},
   "outputs": [
    {
     "data": {
      "text/plain": [
       "<All keys matched successfully>"
      ]
     },
     "execution_count": 145,
     "metadata": {},
     "output_type": "execute_result"
    }
   ],
   "source": [
    "import sys\n",
    "sys.path.append(r'C:\\Users\\llama\\Desktop\\cuni\\bakalarka\\Bachelor_thesis-Electronic_music')\n",
    "\n",
    "\n",
    "model_dir_path = Path(r'C:\\Users\\llama\\Desktop\\cuni\\bakalarka\\Bachelor_thesis-Electronic_music\\trained_models\\test_5')\n",
    "model_name = os.path.basename(model_dir_path)\n",
    "config = load_config(model_dir_path / f'{model_name}_config.pkl')\n",
    "\n",
    "model = VAE_1(config.latent_dim)\n",
    "model.load_state_dict(torch.load(model_dir_path / f'model_{model_name}.pkl'))"
   ]
  },
  {
   "cell_type": "code",
   "execution_count": 146,
   "metadata": {},
   "outputs": [],
   "source": [
    "MFCC_KWARGS = config.mfcc_kwargs\n",
    "\n",
    "INVERSE_MFCC_KWARGS = {\n",
    "    'n_mels': MFCC_KWARGS['n_mels'],\n",
    "    'dct_type': MFCC_KWARGS['dct_type'],\n",
    "    'norm': MFCC_KWARGS['norm'],\n",
    "    'lifter': MFCC_KWARGS['lifter'],\n",
    "    'n_fft': MFCC_KWARGS['n_fft'],\n",
    "    'hop_length': MFCC_KWARGS['hop_length'],\n",
    "    'win_length': MFCC_KWARGS['win_length'],\n",
    "    'window':  MFCC_KWARGS['window'],\n",
    "    'center': MFCC_KWARGS['center'],\n",
    "    'pad_mode': MFCC_KWARGS['pad_mode'],\n",
    "    'power': MFCC_KWARGS['power'],\n",
    "\n",
    "    ####\n",
    "    # 'sr': 22050,\n",
    "    ####\n",
    "\n",
    "    'ref': 1.0,\n",
    "    'n_iter': 32,\n",
    "    'length': None,\n",
    "    'dtype': np.float32\n",
    "}\n"
   ]
  },
  {
   "cell_type": "code",
   "execution_count": 135,
   "metadata": {},
   "outputs": [
    {
     "name": "stderr",
     "output_type": "stream",
     "text": [
      "c:\\Users\\llama\\anaconda3\\envs\\bakalarka\\Lib\\site-packages\\librosa\\feature\\spectral.py:2143: UserWarning: Empty filters detected in mel frequency basis. Some channels will produce empty responses. Try increasing your sampling rate (and fmax) or reducing n_mels.\n",
      "  mel_basis = filters.mel(sr=sr, n_fft=n_fft, **kwargs)\n",
      "c:\\Users\\llama\\anaconda3\\envs\\bakalarka\\Lib\\site-packages\\librosa\\feature\\inverse.py:99: UserWarning: Empty filters detected in mel frequency basis. Some channels will produce empty responses. Try increasing your sampling rate (and fmax) or reducing n_mels.\n",
      "  mel_basis = filters.mel(\n"
     ]
    }
   ],
   "source": [
    "wave, sr = load_random_wave('tom')\n",
    "x = pad_or_trim(convert_to_mfcc(wave, sr), length=100)\n",
    "\n",
    "\n",
    "reconstructed_x, mu, logvar = model(torch.tensor(x).view(1, 1, *x.shape))\n",
    "\n",
    "reconstructed_wave = convert_to_wave(reconstructed_x.detach().numpy().reshape(-1, 100), sr)\n",
    "\n",
    "sampled_x = model.decoder.forward(sample_from_latent_space(mu, logvar))\n",
    "\n",
    "play_wave(wave, sr)\n",
    "play_wave(reconstructed_wave, sr)"
   ]
  },
  {
   "cell_type": "code",
   "execution_count": 153,
   "metadata": {},
   "outputs": [
    {
     "name": "stderr",
     "output_type": "stream",
     "text": [
      "c:\\Users\\llama\\anaconda3\\envs\\bakalarka\\Lib\\site-packages\\librosa\\feature\\spectral.py:2143: UserWarning: Empty filters detected in mel frequency basis. Some channels will produce empty responses. Try increasing your sampling rate (and fmax) or reducing n_mels.\n",
      "  mel_basis = filters.mel(sr=sr, n_fft=n_fft, **kwargs)\n"
     ]
    },
    {
     "data": {
      "text/plain": [
       "(array([ 1.,  0.,  0.,  1.,  0.,  1.,  1.,  1.,  0.,  1.,  1.,  2.,  4.,\n",
       "         3.,  4., 10.,  4.,  4., 12.,  9.,  6.,  6., 20., 14.,  5.,  7.,\n",
       "        11.,  5., 12., 21., 15., 26., 16., 25., 21., 29., 23., 28., 22.,\n",
       "        24., 23., 29., 17., 30., 24., 22., 19., 20., 26., 11., 17., 22.,\n",
       "        14., 14., 22., 13., 16.,  9., 12.,  9.,  7.,  9., 12.,  6., 10.,\n",
       "         9.,  8.,  7.,  4.,  4.,  5.,  1.,  4.,  4.,  3.,  5.,  6.,  3.,\n",
       "         0.,  5.,  1.,  4.,  5.,  2.,  2.,  1.,  3.,  1.,  2.,  2.,  4.,\n",
       "         1.,  1.,  1.,  3.,  1.,  0.,  0.,  1.,  1.]),\n",
       " array([33.16774677, 33.38043737, 33.59312796, 33.80581856, 34.01850915,\n",
       "        34.23119975, 34.44389034, 34.65658094, 34.86927153, 35.08196213,\n",
       "        35.29465272, 35.50734332, 35.72003391, 35.93272451, 36.14541511,\n",
       "        36.3581057 , 36.5707963 , 36.78348689, 36.99617749, 37.20886808,\n",
       "        37.42155868, 37.63424927, 37.84693987, 38.05963046, 38.27232106,\n",
       "        38.48501165, 38.69770225, 38.91039284, 39.12308344, 39.33577403,\n",
       "        39.54846463, 39.76115522, 39.97384582, 40.18653641, 40.39922701,\n",
       "        40.6119176 , 40.8246082 , 41.03729879, 41.24998939, 41.46267998,\n",
       "        41.67537058, 41.88806117, 42.10075177, 42.31344236, 42.52613296,\n",
       "        42.73882355, 42.95151415, 43.16420474, 43.37689534, 43.58958593,\n",
       "        43.80227653, 44.01496712, 44.22765772, 44.44034831, 44.65303891,\n",
       "        44.8657295 , 45.0784201 , 45.29111069, 45.50380129, 45.71649188,\n",
       "        45.92918248, 46.14187307, 46.35456367, 46.56725426, 46.77994486,\n",
       "        46.99263545, 47.20532605, 47.41801664, 47.63070724, 47.84339783,\n",
       "        48.05608843, 48.26877902, 48.48146962, 48.69416021, 48.90685081,\n",
       "        49.1195414 , 49.332232  , 49.54492259, 49.75761319, 49.97030378,\n",
       "        50.18299438, 50.39568497, 50.60837557, 50.82106616, 51.03375676,\n",
       "        51.24644736, 51.45913795, 51.67182855, 51.88451914, 52.09720974,\n",
       "        52.30990033, 52.52259093, 52.73528152, 52.94797212, 53.16066271,\n",
       "        53.37335331, 53.5860439 , 53.7987345 , 54.01142509, 54.22411569,\n",
       "        54.43680628]),\n",
       " <BarContainer object of 100 artists>)"
      ]
     },
     "execution_count": 153,
     "metadata": {},
     "output_type": "execute_result"
    },
    {
     "data": {
      "image/png": "[encoded data removed]",
      "text/plain": [
       "<Figure size 640x480 with 1 Axes>"
      ]
     },
     "metadata": {},
     "output_type": "display_data"
    }
   ],
   "source": [
    "sample_groups = config.sample_group.split(',')\n",
    "\n",
    "mfccs = [pad_or_trim(convert_to_mfcc(wave, sr), length=100) for wave, sr in load_all_waves(sample_groups)]\n",
    "\n",
    "means_logvars = [model.encoder(torch.tensor(x).view(1, 1, *x.shape)) for x in mfccs]\n",
    "\n",
    "center = np.zeros(config.latent_dim)\n",
    "\n",
    "euler_dists = [np.linalg.norm(mean.detach().numpy() - center) for mean, _ in means_logvars]\n",
    "\n",
    "plt.hist(euler_dists, bins=100)"
   ]
  }
 ],
 "metadata": {
  "kernelspec": {
   "display_name": "bakalarka",
   "language": "python",
   "name": "python3"
  },
  "language_info": {
   "codemirror_mode": {
    "name": "ipython",
    "version": 3
   },
   "file_extension": ".py",
   "mimetype": "text/x-python",
   "name": "python",
   "nbconvert_exporter": "python",
   "pygments_lexer": "ipython3",
   "version": "3.11.5"
  }
 },
 "nbformat": 4,
 "nbformat_minor": 2
}
