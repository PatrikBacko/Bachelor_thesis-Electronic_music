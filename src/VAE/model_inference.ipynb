{
 "cells": [
  {
   "cell_type": "code",
   "execution_count": 156,
   "metadata": {},
   "outputs": [
    {
     "ename": "SyntaxError",
     "evalue": "invalid syntax (226278823.py, line 14)",
     "output_type": "error",
     "traceback": [
      "\u001b[1;36m  Cell \u001b[1;32mIn[156], line 14\u001b[1;36m\u001b[0m\n\u001b[1;33m    import\u001b[0m\n\u001b[1;37m           ^\u001b[0m\n\u001b[1;31mSyntaxError\u001b[0m\u001b[1;31m:\u001b[0m invalid syntax\n"
     ]
    }
   ],
   "source": [
    "import math\n",
    "import os\n",
    "from pathlib import Path\n",
    "\n",
    "import numpy as np\n",
    "import librosa as lb\n",
    "import soundfile as sf\n",
    "import pyaudio\n",
    "\n",
    "import torch\n",
    "import torch.nn as nn\n",
    "import torch.nn.functional as F\n",
    "\n",
    "import \n",
    "\n",
    "import matplotlib.pyplot as plt\n",
    "%matplotlib inline\n",
    "\n",
    "import pickle as pkl\n",
    "\n",
    "from models.VAE_1 import VAE_1\n",
    "from utils.prepare_data import pad_or_trim\n",
    "\n",
    "from utils.config import load_config"
   ]
  },
  {
   "cell_type": "code",
   "execution_count": null,
   "metadata": {},
   "outputs": [],
   "source": [
    "def play_wave(wave, sr):\n",
    "    # initialize PyAudio\n",
    "    p = pyaudio.PyAudio()\n",
    "\n",
    "    # open a stream\n",
    "    stream = p.open(format=pyaudio.paFloat32,\n",
    "                    channels=1,\n",
    "                    rate=sr,\n",
    "                    output=True)\n",
    "\n",
    "    # play audio\n",
    "    stream.write(wave.tobytes())\n",
    "\n",
    "    # stop stream and terminate PyAudio\n",
    "    stream.stop_stream()\n",
    "    stream.close()\n",
    "    p.terminate()"
   ]
  },
  {
   "cell_type": "code",
   "execution_count": null,
   "metadata": {},
   "outputs": [],
   "source": [
    "def load_wave(path):\n",
    "    sample, sr = lb.load(path)\n",
    "    return sample, sr\n",
    "\n",
    "def load_random_wave(sample_type, path_to_samples = r\"C:\\Users\\llama\\Desktop\\cuni\\bakalarka\\Bachelor_thesis-Electronic_music\\data\\drums-one_shots\"):\n",
    "    # load random wave\n",
    "    path = os.path.join(path_to_samples, sample_type, f'{sample_type}_samples')\n",
    "\n",
    "    sample_name = np.random.choice(os.listdir(path))\n",
    "    sample, sr = load_wave(os.path.join(path, sample_name))\n",
    "    return sample, sr\n",
    "\n",
    "def load_all_waves(sample_types: list, path_to_samples = r\"C:\\Users\\llama\\Desktop\\cuni\\bakalarka\\Bachelor_thesis-Electronic_music\\data\\drums-one_shots\"):\n",
    "    waves = []\n",
    "    for sample_type in sample_types:\n",
    "        path = os.path.join(path_to_samples, sample_type, f'{sample_type}_samples')\n",
    "        for sample_name in os.listdir(path):\n",
    "            sample, sr = load_wave(os.path.join(path, sample_name))\n",
    "            waves.append((sample, sr))\n",
    "    return waves\n",
    "\n",
    "def convert_to_mfcc(wave, sr):\n",
    "    mfcc = lb.feature.mfcc(y=wave, sr=sr, **MFCC_KWARGS)\n",
    "    return mfcc\n",
    "\n",
    "def convert_to_wave(mfcc, sr):\n",
    "    return lb.feature.inverse.mfcc_to_audio(mfcc=mfcc, sr=sr, **INVERSE_MFCC_KWARGS)"
   ]
  },
  {
   "cell_type": "code",
   "execution_count": 232,
   "metadata": {},
   "outputs": [],
   "source": [
    "def sample_from_latent_space(mu, logvar):\n",
    "    std = torch.exp(0.5*logvar)\n",
    "    eps = torch.randn_like(std)\n",
    "    return mu + eps*std\n",
    "\n",
    "def fuse_sampled_samples(samples, weights = None):\n",
    "    if weights is None:\n",
    "        weights = np.ones(len(samples)) / len(samples)\n",
    "    return np.average(samples, axis=0, weights=weights).astype(np.float32)"
   ]
  },
  {
   "cell_type": "code",
   "execution_count": 174,
   "metadata": {},
   "outputs": [
    {
     "data": {
      "text/plain": [
       "<All keys matched successfully>"
      ]
     },
     "execution_count": 174,
     "metadata": {},
     "output_type": "execute_result"
    }
   ],
   "source": [
    "import sys\n",
    "sys.path.append(r'C:\\Users\\llama\\Desktop\\cuni\\bakalarka\\Bachelor_thesis-Electronic_music')\n",
    "\n",
    "\n",
    "model_dir_path = Path(r'C:\\Users\\llama\\Desktop\\cuni\\bakalarka\\Bachelor_thesis-Electronic_music\\trained_models\\model_all_latent-dims=16_noise=multiplicative')\n",
    "model_name = os.path.basename(model_dir_path)\n",
    "config = load_config(model_dir_path / f'{model_name}_config.pkl')\n",
    "\n",
    "model = VAE_1(config.latent_dim)\n",
    "model.load_state_dict(torch.load(model_dir_path / f'model_{model_name}.pkl', map_location=torch.device('cpu')))"
   ]
  },
  {
   "cell_type": "code",
   "execution_count": 175,
   "metadata": {},
   "outputs": [],
   "source": [
    "MFCC_KWARGS = config.mfcc_kwargs\n",
    "\n",
    "INVERSE_MFCC_KWARGS = {\n",
    "    'n_mels': MFCC_KWARGS['n_mels'],\n",
    "    'dct_type': MFCC_KWARGS['dct_type'],\n",
    "    'norm': MFCC_KWARGS['norm'],\n",
    "    'lifter': MFCC_KWARGS['lifter'],\n",
    "    'n_fft': MFCC_KWARGS['n_fft'],\n",
    "    'hop_length': MFCC_KWARGS['hop_length'],\n",
    "    'win_length': MFCC_KWARGS['win_length'],\n",
    "    'window':  MFCC_KWARGS['window'],\n",
    "    'center': MFCC_KWARGS['center'],\n",
    "    'pad_mode': MFCC_KWARGS['pad_mode'],\n",
    "    'power': MFCC_KWARGS['power'],\n",
    "\n",
    "    ####\n",
    "    # 'sr': 22050,\n",
    "    ####\n",
    "\n",
    "    'ref': 1.0,\n",
    "    'n_iter': 32,\n",
    "    'length': None,\n",
    "    'dtype': np.float32\n",
    "}\n"
   ]
  },
  {
   "cell_type": "code",
   "execution_count": 227,
   "metadata": {},
   "outputs": [
    {
     "name": "stderr",
     "output_type": "stream",
     "text": [
      "c:\\Users\\llama\\anaconda3\\envs\\bakalarka\\Lib\\site-packages\\librosa\\feature\\inverse.py:99: UserWarning: Empty filters detected in mel frequency basis. Some channels will produce empty responses. Try increasing your sampling rate (and fmax) or reducing n_mels.\n",
      "  mel_basis = filters.mel(\n"
     ]
    }
   ],
   "source": [
    "wave, sr = load_random_wave('clap')\n",
    "x = pad_or_trim(convert_to_mfcc(wave, sr), length=100)\n",
    "\n",
    "\n",
    "reconstructed_x, mu, logvar = model(torch.tensor(x).view(1, 1, *x.shape))\n",
    "\n",
    "reconstructed_wave = convert_to_wave(reconstructed_x.detach().numpy().reshape(-1, 100), sr)\n",
    "\n",
    "sampled_x = model.decoder.forward(sample_from_latent_space(mu, logvar))\n",
    "\n",
    "play_wave(wave, sr)\n",
    "play_wave(reconstructed_wave, sr)\n",
    "play_wave(convert_to_wave(sampled_x.detach().numpy().reshape(-1, 100), sr), sr)"
   ]
  },
  {
   "cell_type": "code",
   "execution_count": 246,
   "metadata": {},
   "outputs": [],
   "source": [
    "wave_1, sr_1 = load_random_wave('hat')\n",
    "wave_2, sr_2 = load_random_wave('kick')\n",
    "\n",
    "x_1 = pad_or_trim(convert_to_mfcc(wave_1, sr_1), length=100)\n",
    "x_2 = pad_or_trim(convert_to_mfcc(wave_2, sr_2), length=100)\n",
    "\n",
    "reconstructed_x_1, mu_1, logvar_1 = model(torch.tensor(x_1).view(1, 1, *x_1.shape))\n",
    "reconstructed_x_2, mu_2, logvar_2 = model(torch.tensor(x_2).view(1, 1, *x_2.shape))\n",
    "\n",
    "sampled_x_1 = model.decoder.forward(sample_from_latent_space(mu_1, logvar_1))\n",
    "sampled_x_2 = model.decoder.forward(sample_from_latent_space(mu_2, logvar_2))\n",
    "\n",
    "fusion = fuse_sampled_samples([sampled_x_1.detach().numpy().reshape(-1, 100), sampled_x_2.detach().numpy().reshape(-1, 100)], weights=[0.5, 0.5])\n",
    "\n",
    "fusion_wave = convert_to_wave(model.encoder.forward(torch.tensor(fusion).view(1, 1, *fusion.shape))[0].detach().numpy(), sr_1)\n",
    "\n",
    "play_wave(wave_1, sr)\n",
    "play_wave(wave_2, sr)\n",
    "play_wave(convert_to_wave(fusion, sr), sr)"
   ]
  },
  {
   "cell_type": "code",
   "execution_count": 248,
   "metadata": {},
   "outputs": [
    {
     "name": "stderr",
     "output_type": "stream",
     "text": [
      "c:\\Users\\llama\\anaconda3\\envs\\bakalarka\\Lib\\site-packages\\librosa\\feature\\spectral.py:2143: UserWarning: Empty filters detected in mel frequency basis. Some channels will produce empty responses. Try increasing your sampling rate (and fmax) or reducing n_mels.\n",
      "  mel_basis = filters.mel(sr=sr, n_fft=n_fft, **kwargs)\n",
      "c:\\Users\\llama\\anaconda3\\envs\\bakalarka\\Lib\\site-packages\\librosa\\core\\spectrum.py:257: UserWarning: n_fft=512 is too large for input signal of length=510\n",
      "  warnings.warn(\n",
      "c:\\Users\\llama\\anaconda3\\envs\\bakalarka\\Lib\\site-packages\\librosa\\core\\spectrum.py:257: UserWarning: n_fft=512 is too large for input signal of length=415\n",
      "  warnings.warn(\n",
      "c:\\Users\\llama\\anaconda3\\envs\\bakalarka\\Lib\\site-packages\\librosa\\core\\spectrum.py:257: UserWarning: n_fft=512 is too large for input signal of length=277\n",
      "  warnings.warn(\n",
      "c:\\Users\\llama\\anaconda3\\envs\\bakalarka\\Lib\\site-packages\\librosa\\core\\spectrum.py:257: UserWarning: n_fft=512 is too large for input signal of length=306\n",
      "  warnings.warn(\n",
      "c:\\Users\\llama\\anaconda3\\envs\\bakalarka\\Lib\\site-packages\\librosa\\core\\spectrum.py:257: UserWarning: n_fft=512 is too large for input signal of length=490\n",
      "  warnings.warn(\n",
      "c:\\Users\\llama\\anaconda3\\envs\\bakalarka\\Lib\\site-packages\\librosa\\core\\spectrum.py:257: UserWarning: n_fft=512 is too large for input signal of length=279\n",
      "  warnings.warn(\n",
      "c:\\Users\\llama\\anaconda3\\envs\\bakalarka\\Lib\\site-packages\\librosa\\core\\spectrum.py:257: UserWarning: n_fft=512 is too large for input signal of length=319\n",
      "  warnings.warn(\n"
     ]
    }
   ],
   "source": [
    "sample_groups = config.sample_group.split(',') if config.sample_group != 'all' else ['kick', 'clap', 'hat', 'snare', 'tom', 'cymbal', 'crash', 'ride']\n",
    "\n",
    "mfccs = [pad_or_trim(convert_to_mfcc(wave, sr), length=100) for wave, sr in load_all_waves(sample_groups)]\n",
    "\n",
    "means_logvars = [model.encoder(torch.tensor(x).view(1, 1, *x.shape)) for x in mfccs]"
   ]
  },
  {
   "cell_type": "code",
   "execution_count": 249,
   "metadata": {},
   "outputs": [
    {
     "data": {
      "text/plain": [
       "(array([  1.,   0.,   3.,   1.,   5.,   9.,  10.,  18.,  35.,  44.,  64.,\n",
       "         65.,  93., 101., 133., 161., 207., 276., 315., 317., 362., 390.,\n",
       "        457., 455., 494., 486., 484., 472., 500., 455., 404., 334., 368.,\n",
       "        284., 254., 249., 240., 223., 206., 169., 179., 177., 178., 175.,\n",
       "        171., 161., 159., 160., 130., 165., 137., 177., 152., 147., 131.,\n",
       "        140., 139., 106.,  90.,  83.,  79.,  72.,  50.,  54.,  46.,  59.,\n",
       "         41.,  39.,  49.,  37.,  27.,  35.,  36.,  30.,  31.,  20.,  17.,\n",
       "         23.,  16.,  10.,  13.,  11.,  10.,   9.,   8.,   9.,   4.,   2.,\n",
       "          3.,   3.,   2.,   3.,   5.,   1.,   2.,   0.,   0.,   3.,   0.,\n",
       "          1.]),\n",
       " array([22.52238526, 23.02555249, 23.52871972, 24.03188696, 24.53505419,\n",
       "        25.03822142, 25.54138865, 26.04455588, 26.54772311, 27.05089035,\n",
       "        27.55405758, 28.05722481, 28.56039204, 29.06355927, 29.56672651,\n",
       "        30.06989374, 30.57306097, 31.0762282 , 31.57939543, 32.08256267,\n",
       "        32.5857299 , 33.08889713, 33.59206436, 34.09523159, 34.59839882,\n",
       "        35.10156606, 35.60473329, 36.10790052, 36.61106775, 37.11423498,\n",
       "        37.61740222, 38.12056945, 38.62373668, 39.12690391, 39.63007114,\n",
       "        40.13323838, 40.63640561, 41.13957284, 41.64274007, 42.1459073 ,\n",
       "        42.64907453, 43.15224177, 43.655409  , 44.15857623, 44.66174346,\n",
       "        45.16491069, 45.66807793, 46.17124516, 46.67441239, 47.17757962,\n",
       "        47.68074685, 48.18391409, 48.68708132, 49.19024855, 49.69341578,\n",
       "        50.19658301, 50.69975024, 51.20291748, 51.70608471, 52.20925194,\n",
       "        52.71241917, 53.2155864 , 53.71875364, 54.22192087, 54.7250881 ,\n",
       "        55.22825533, 55.73142256, 56.2345898 , 56.73775703, 57.24092426,\n",
       "        57.74409149, 58.24725872, 58.75042595, 59.25359319, 59.75676042,\n",
       "        60.25992765, 60.76309488, 61.26626211, 61.76942935, 62.27259658,\n",
       "        62.77576381, 63.27893104, 63.78209827, 64.2852655 , 64.78843274,\n",
       "        65.29159997, 65.7947672 , 66.29793443, 66.80110166, 67.3042689 ,\n",
       "        67.80743613, 68.31060336, 68.81377059, 69.31693782, 69.82010506,\n",
       "        70.32327229, 70.82643952, 71.32960675, 71.83277398, 72.33594121,\n",
       "        72.83910845]),\n",
       " <BarContainer object of 100 artists>)"
      ]
     },
     "execution_count": 249,
     "metadata": {},
     "output_type": "execute_result"
    },
    {
     "data": {
      "image/png": "[encoded data removed]",
      "text/plain": [
       "<Figure size 640x480 with 1 Axes>"
      ]
     },
     "metadata": {},
     "output_type": "display_data"
    }
   ],
   "source": [
    "center = np.zeros(config.latent_dim)\n",
    "\n",
    "euler_dists = [np.linalg.norm(mean.detach().numpy() - center) for mean, _ in means_logvars]\n",
    "\n",
    "plt.hist(euler_dists, bins=100)"
   ]
  }
 ],
 "metadata": {
  "kernelspec": {
   "display_name": "bakalarka",
   "language": "python",
   "name": "python3"
  },
  "language_info": {
   "codemirror_mode": {
    "name": "ipython",
    "version": 3
   },
   "file_extension": ".py",
   "mimetype": "text/x-python",
   "name": "python",
   "nbconvert_exporter": "python",
   "pygments_lexer": "ipython3",
   "version": "3.11.5"
  }
 },
 "nbformat": 4,
 "nbformat_minor": 2
}
