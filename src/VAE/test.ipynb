{
 "cells": [
  {
   "cell_type": "code",
   "execution_count": 1,
   "metadata": {},
   "outputs": [],
   "source": [
    "import json\n",
    "import pickle as pkl"
   ]
  },
  {
   "cell_type": "code",
   "execution_count": 2,
   "metadata": {},
   "outputs": [],
   "source": [
    "class x():\n",
    "    def __init__(self):\n",
    "        self.name = 'lul'\n",
    "        self.age = 10\n",
    "        self.noise = None\n",
    "        self.k = {\n",
    "            \"a\": 1,\n",
    "            \"b\": 2,\n",
    "            \"c\": \"lalala\"\n",
    "                }\n"
   ]
  },
  {
   "cell_type": "code",
   "execution_count": 3,
   "metadata": {},
   "outputs": [
    {
     "name": "stdout",
     "output_type": "stream",
     "text": [
      "{\n",
      "    \"name\": \"lul\",\n",
      "    \"age\": 10,\n",
      "    \"noise\": null,\n",
      "    \"k\": {\n",
      "        \"a\": 1,\n",
      "        \"b\": 2,\n",
      "        \"c\": \"lalala\"\n",
      "    }\n",
      "}\n"
     ]
    }
   ],
   "source": [
    "y = x()\n",
    "string = json.dumps(y.__dict__, indent=4)\n",
    "print(string)\n",
    "\n",
    "z = json.loads(string)"
   ]
  },
  {
   "cell_type": "code",
   "execution_count": 4,
   "metadata": {},
   "outputs": [
    {
     "data": {
      "text/plain": [
       "{'a': 1, 'b': 2, 'c': 'lalala'}"
      ]
     },
     "execution_count": 4,
     "metadata": {},
     "output_type": "execute_result"
    }
   ],
   "source": [
    "z['k']"
   ]
  },
  {
   "cell_type": "code",
   "execution_count": 5,
   "metadata": {},
   "outputs": [],
   "source": [
    "pkl.dump(y, open('test.pkl', 'wb'))"
   ]
  },
  {
   "cell_type": "code",
   "execution_count": 8,
   "metadata": {},
   "outputs": [],
   "source": [
    "z = pkl.load(open('test.pkl', 'rb'))\n",
    "\n",
    "z.noise"
   ]
  },
  {
   "cell_type": "code",
   "execution_count": 5,
   "metadata": {},
   "outputs": [
    {
     "data": {
      "text/plain": [
       "(array([3., 3., 3., 3.]),\n",
       " array([ 1.  ,  3.75,  6.5 ,  9.25, 12.  ]),\n",
       " <BarContainer object of 4 artists>)"
      ]
     },
     "execution_count": 5,
     "metadata": {},
     "output_type": "execute_result"
    },
    {
     "data": {
      "image/png": "[encoded data removed]",
      "text/plain": [
       "<Figure size 640x480 with 1 Axes>"
      ]
     },
     "metadata": {},
     "output_type": "display_data"
    }
   ],
   "source": [
    "import matplotlib.pyplot as plt\n",
    "\n",
    "groups = {'a':[1,2,3,4], 'b':[5,6,7,8], 'c':[9,10,11,12]}\n",
    "\n",
    "list = []\n",
    "for group in groups.keys():\n",
    "    # plt.hist(groups[group], bins=4, alpha=0.5, label=group)\n",
    "\n",
    "    list.extend(groups[group])\n",
    "\n",
    "plt.hist(list, bins=4, alpha=0.5, label='all')"
   ]
  }
 ],
 "metadata": {
  "kernelspec": {
   "display_name": "bakalarka",
   "language": "python",
   "name": "python3"
  },
  "language_info": {
   "codemirror_mode": {
    "name": "ipython",
    "version": 3
   },
   "file_extension": ".py",
   "mimetype": "text/x-python",
   "name": "python",
   "nbconvert_exporter": "python",
   "pygments_lexer": "ipython3",
   "version": "3.11.8"
  }
 },
 "nbformat": 4,
 "nbformat_minor": 2
}
