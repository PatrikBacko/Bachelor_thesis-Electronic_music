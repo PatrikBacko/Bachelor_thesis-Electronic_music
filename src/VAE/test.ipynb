{
 "cells": [
  {
   "cell_type": "code",
   "execution_count": 1,
   "metadata": {},
   "outputs": [],
   "source": [
    "import json\n",
    "import pickle as pkl"
   ]
  },
  {
   "cell_type": "code",
   "execution_count": 2,
   "metadata": {},
   "outputs": [],
   "source": [
    "class x():\n",
    "    def __init__(self):\n",
    "        self.name = 'lul'\n",
    "        self.age = 10\n",
    "        self.noise = None\n",
    "        self.k = {\n",
    "            \"a\": 1,\n",
    "            \"b\": 2,\n",
    "            \"c\": \"lalala\"\n",
    "                }\n"
   ]
  },
  {
   "cell_type": "code",
   "execution_count": 3,
   "metadata": {},
   "outputs": [
    {
     "name": "stdout",
     "output_type": "stream",
     "text": [
      "{\n",
      "    \"name\": \"lul\",\n",
      "    \"age\": 10,\n",
      "    \"noise\": null,\n",
      "    \"k\": {\n",
      "        \"a\": 1,\n",
      "        \"b\": 2,\n",
      "        \"c\": \"lalala\"\n",
      "    }\n",
      "}\n"
     ]
    }
   ],
   "source": [
    "y = x()\n",
    "string = json.dumps(y.__dict__, indent=4)\n",
    "print(string)\n",
    "\n",
    "z = json.loads(string)"
   ]
  },
  {
   "cell_type": "code",
   "execution_count": 4,
   "metadata": {},
   "outputs": [
    {
     "data": {
      "text/plain": [
       "{'a': 1, 'b': 2, 'c': 'lalala'}"
      ]
     },
     "execution_count": 4,
     "metadata": {},
     "output_type": "execute_result"
    }
   ],
   "source": [
    "z['k']"
   ]
  },
  {
   "cell_type": "code",
   "execution_count": 5,
   "metadata": {},
   "outputs": [],
   "source": [
    "pkl.dump(y, open('test.pkl', 'wb'))"
   ]
  },
  {
   "cell_type": "code",
   "execution_count": 8,
   "metadata": {},
   "outputs": [],
   "source": [
    "z = pkl.load(open('test.pkl', 'rb'))\n",
    "\n",
    "z.noise"
   ]
  }
 ],
 "metadata": {
  "kernelspec": {
   "display_name": "bakalarka",
   "language": "python",
   "name": "python3"
  },
  "language_info": {
   "codemirror_mode": {
    "name": "ipython",
    "version": 3
   },
   "file_extension": ".py",
   "mimetype": "text/x-python",
   "name": "python",
   "nbconvert_exporter": "python",
   "pygments_lexer": "ipython3",
   "version": "3.11.8"
  }
 },
 "nbformat": 4,
 "nbformat_minor": 2
}
